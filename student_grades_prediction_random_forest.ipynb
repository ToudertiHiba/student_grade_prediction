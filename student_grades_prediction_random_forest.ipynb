{
  "cells": [
    {
      "cell_type": "code",
      "execution_count": 1,
      "metadata": {
        "id": "mojEwIHEha5b"
      },
      "outputs": [],
      "source": [
        "# Import necessary libraries\n",
        "import pandas as pd\n",
        "import numpy as np\n",
        "from sklearn.ensemble import RandomForestRegressor\n",
        "from sklearn.metrics import r2_score, mean_absolute_error, mean_squared_error\n",
        "from sklearn.model_selection import train_test_split"
      ]
    },
    {
      "cell_type": "code",
      "execution_count": 2,
      "metadata": {
        "id": "lrgjvjtSi4WW"
      },
      "outputs": [],
      "source": [
        "# Load the dataset\n",
        "data = pd.read_csv(\"student.csv\", sep=\",\")"
      ]
    },
    {
      "cell_type": "code",
      "execution_count": 3,
      "metadata": {
        "colab": {
          "base_uri": "https://localhost:8080/"
        },
        "id": "aLsU5W20i4ed",
        "outputId": "1ac5484a-a379-402a-b8b3-f546ba2f4aee"
      },
      "outputs": [
        {
          "name": "stdout",
          "output_type": "stream",
          "text": [
            "  school sex  age address famsize Pstatus  Medu  Fedu     Mjob      Fjob  ...  \\\n",
            "0     GP   F   18       U     GT3       A     4     4  at_home   teacher  ...   \n",
            "1     GP   F   17       U     GT3       T     1     1  at_home     other  ...   \n",
            "2     GP   F   15       U     LE3       T     1     1  at_home     other  ...   \n",
            "3     GP   F   15       U     GT3       T     4     2   health  services  ...   \n",
            "4     GP   F   16       U     GT3       T     3     3    other     other  ...   \n",
            "\n",
            "  feespaid  ecactivities  internet  freetime goout health absences  G1  G2  G3  \n",
            "0       no            no        no         3     4      3        6   5   6   6  \n",
            "1       no            no       yes         3     3      3        4   5   5   6  \n",
            "2      yes            no       yes         3     2      3       10   7   8  10  \n",
            "3      yes           yes       yes         2     2      5        2  15  14  15  \n",
            "4      yes            no        no         3     2      5        4   6  10  10  \n",
            "\n",
            "[5 rows x 26 columns]\n"
          ]
        }
      ],
      "source": [
        "# Display the first few rows of the dataset\n",
        "print(data.head())"
      ]
    },
    {
      "cell_type": "code",
      "execution_count": 4,
      "metadata": {
        "colab": {
          "base_uri": "https://localhost:8080/"
        },
        "id": "lFc9pNidUlvo",
        "outputId": "cd7bcc7e-3f77-4080-bd6c-e8d80bfd7f6c"
      },
      "outputs": [
        {
          "name": "stdout",
          "output_type": "stream",
          "text": [
            "Exploratory Data Analysis:\n",
            "<class 'pandas.core.frame.DataFrame'>\n",
            "RangeIndex: 395 entries, 0 to 394\n",
            "Data columns (total 26 columns):\n",
            " #   Column        Non-Null Count  Dtype \n",
            "---  ------        --------------  ----- \n",
            " 0   school        395 non-null    object\n",
            " 1   sex           395 non-null    object\n",
            " 2   age           395 non-null    int64 \n",
            " 3   address       395 non-null    object\n",
            " 4   famsize       395 non-null    object\n",
            " 5   Pstatus       395 non-null    object\n",
            " 6   Medu          395 non-null    int64 \n",
            " 7   Fedu          395 non-null    int64 \n",
            " 8   Mjob          393 non-null    object\n",
            " 9   Fjob          395 non-null    object\n",
            " 10  guardian      395 non-null    object\n",
            " 11  traveltime    395 non-null    int64 \n",
            " 12  studytime     395 non-null    int64 \n",
            " 13  failures      395 non-null    int64 \n",
            " 14  Ssupport      395 non-null    object\n",
            " 15  Gsupport      395 non-null    object\n",
            " 16  feespaid      395 non-null    object\n",
            " 17  ecactivities  395 non-null    object\n",
            " 18  internet      395 non-null    object\n",
            " 19  freetime      395 non-null    int64 \n",
            " 20  goout         395 non-null    int64 \n",
            " 21  health        395 non-null    int64 \n",
            " 22  absences      395 non-null    int64 \n",
            " 23  G1            395 non-null    int64 \n",
            " 24  G2            395 non-null    int64 \n",
            " 25  G3            395 non-null    int64 \n",
            "dtypes: int64(13), object(13)\n",
            "memory usage: 80.4+ KB\n",
            "None\n",
            "              age        Medu        Fedu  traveltime   studytime    failures  \\\n",
            "count  395.000000  395.000000  395.000000  395.000000  395.000000  395.000000   \n",
            "mean    16.696203    2.749367    2.521519    1.448101    2.035443    0.334177   \n",
            "std      1.276043    1.094735    1.088201    0.697505    0.839240    0.743651   \n",
            "min     15.000000    0.000000    0.000000    1.000000    1.000000    0.000000   \n",
            "25%     16.000000    2.000000    2.000000    1.000000    1.000000    0.000000   \n",
            "50%     17.000000    3.000000    2.000000    1.000000    2.000000    0.000000   \n",
            "75%     18.000000    4.000000    3.000000    2.000000    2.000000    0.000000   \n",
            "max     22.000000    4.000000    4.000000    4.000000    4.000000    3.000000   \n",
            "\n",
            "         freetime       goout      health    absences          G1          G2  \\\n",
            "count  395.000000  395.000000  395.000000  395.000000  395.000000  395.000000   \n",
            "mean     3.235443    3.108861    3.554430    5.708861   10.908861   10.713924   \n",
            "std      0.998862    1.113278    1.390303    8.003096    3.319195    3.761505   \n",
            "min      1.000000    1.000000    1.000000    0.000000    3.000000    0.000000   \n",
            "25%      3.000000    2.000000    3.000000    0.000000    8.000000    9.000000   \n",
            "50%      3.000000    3.000000    4.000000    4.000000   11.000000   11.000000   \n",
            "75%      4.000000    4.000000    5.000000    8.000000   13.000000   13.000000   \n",
            "max      5.000000    5.000000    5.000000   75.000000   19.000000   19.000000   \n",
            "\n",
            "               G3  \n",
            "count  395.000000  \n",
            "mean    10.415190  \n",
            "std      4.581443  \n",
            "min      0.000000  \n",
            "25%      8.000000  \n",
            "50%     11.000000  \n",
            "75%     14.000000  \n",
            "max     20.000000  \n"
          ]
        }
      ],
      "source": [
        "# Perform exploratory data analysis (EDA)\n",
        "print(\"Exploratory Data Analysis:\")\n",
        "# Display information about the dataset (columns, data types, non-null counts)\n",
        "print(data.info())\n",
        "# Display summary statistics\n",
        "print(data.describe())"
      ]
    },
    {
      "cell_type": "code",
      "execution_count": 5,
      "metadata": {
        "id": "2ImzF8oXjDXh"
      },
      "outputs": [],
      "source": [
        "# Select specific columns for analysis (G1, G2, G3, studytime, failures, absences)\n",
        "data = data[[\"G1\", \"G2\", \"G3\", \"studytime\", \"failures\", \"absences\"]]"
      ]
    },
    {
      "cell_type": "code",
      "execution_count": 6,
      "metadata": {
        "colab": {
          "base_uri": "https://localhost:8080/"
        },
        "id": "k4rPMq4ci4ha",
        "outputId": "386489e7-2936-480d-fa06-48ebd30654ea"
      },
      "outputs": [],
      "source": [
        "# Define the target variable (G3) and features\n",
        "predict = \"G3\"\n",
        "X = np.array(data.drop(columns=[predict]))   # Features (excluding G3)\n",
        "y = np.array(data[predict])  # Labels (G3)"
      ]
    },
    {
      "cell_type": "code",
      "execution_count": 7,
      "metadata": {
        "id": "9Z0V2gJRjH7P"
      },
      "outputs": [],
      "source": [
        "# Split the data into training and testing sets\n",
        "x_train, x_test, y_train, y_test = train_test_split(X, y, test_size = 0.1)"
      ]
    },
    {
      "cell_type": "code",
      "execution_count": 8,
      "metadata": {
        "colab": {
          "base_uri": "https://localhost:8080/",
          "height": 51
        },
        "id": "p_BdT8LzjZX1",
        "outputId": "16bbc377-4efc-497a-e2ae-acaa17e98f95"
      },
      "outputs": [
        {
          "data": {
            "text/html": [
              "<style>#sk-container-id-1 {color: black;}#sk-container-id-1 pre{padding: 0;}#sk-container-id-1 div.sk-toggleable {background-color: white;}#sk-container-id-1 label.sk-toggleable__label {cursor: pointer;display: block;width: 100%;margin-bottom: 0;padding: 0.3em;box-sizing: border-box;text-align: center;}#sk-container-id-1 label.sk-toggleable__label-arrow:before {content: \"▸\";float: left;margin-right: 0.25em;color: #696969;}#sk-container-id-1 label.sk-toggleable__label-arrow:hover:before {color: black;}#sk-container-id-1 div.sk-estimator:hover label.sk-toggleable__label-arrow:before {color: black;}#sk-container-id-1 div.sk-toggleable__content {max-height: 0;max-width: 0;overflow: hidden;text-align: left;background-color: #f0f8ff;}#sk-container-id-1 div.sk-toggleable__content pre {margin: 0.2em;color: black;border-radius: 0.25em;background-color: #f0f8ff;}#sk-container-id-1 input.sk-toggleable__control:checked~div.sk-toggleable__content {max-height: 200px;max-width: 100%;overflow: auto;}#sk-container-id-1 input.sk-toggleable__control:checked~label.sk-toggleable__label-arrow:before {content: \"▾\";}#sk-container-id-1 div.sk-estimator input.sk-toggleable__control:checked~label.sk-toggleable__label {background-color: #d4ebff;}#sk-container-id-1 div.sk-label input.sk-toggleable__control:checked~label.sk-toggleable__label {background-color: #d4ebff;}#sk-container-id-1 input.sk-hidden--visually {border: 0;clip: rect(1px 1px 1px 1px);clip: rect(1px, 1px, 1px, 1px);height: 1px;margin: -1px;overflow: hidden;padding: 0;position: absolute;width: 1px;}#sk-container-id-1 div.sk-estimator {font-family: monospace;background-color: #f0f8ff;border: 1px dotted black;border-radius: 0.25em;box-sizing: border-box;margin-bottom: 0.5em;}#sk-container-id-1 div.sk-estimator:hover {background-color: #d4ebff;}#sk-container-id-1 div.sk-parallel-item::after {content: \"\";width: 100%;border-bottom: 1px solid gray;flex-grow: 1;}#sk-container-id-1 div.sk-label:hover label.sk-toggleable__label {background-color: #d4ebff;}#sk-container-id-1 div.sk-serial::before {content: \"\";position: absolute;border-left: 1px solid gray;box-sizing: border-box;top: 0;bottom: 0;left: 50%;z-index: 0;}#sk-container-id-1 div.sk-serial {display: flex;flex-direction: column;align-items: center;background-color: white;padding-right: 0.2em;padding-left: 0.2em;position: relative;}#sk-container-id-1 div.sk-item {position: relative;z-index: 1;}#sk-container-id-1 div.sk-parallel {display: flex;align-items: stretch;justify-content: center;background-color: white;position: relative;}#sk-container-id-1 div.sk-item::before, #sk-container-id-1 div.sk-parallel-item::before {content: \"\";position: absolute;border-left: 1px solid gray;box-sizing: border-box;top: 0;bottom: 0;left: 50%;z-index: -1;}#sk-container-id-1 div.sk-parallel-item {display: flex;flex-direction: column;z-index: 1;position: relative;background-color: white;}#sk-container-id-1 div.sk-parallel-item:first-child::after {align-self: flex-end;width: 50%;}#sk-container-id-1 div.sk-parallel-item:last-child::after {align-self: flex-start;width: 50%;}#sk-container-id-1 div.sk-parallel-item:only-child::after {width: 0;}#sk-container-id-1 div.sk-dashed-wrapped {border: 1px dashed gray;margin: 0 0.4em 0.5em 0.4em;box-sizing: border-box;padding-bottom: 0.4em;background-color: white;}#sk-container-id-1 div.sk-label label {font-family: monospace;font-weight: bold;display: inline-block;line-height: 1.2em;}#sk-container-id-1 div.sk-label-container {text-align: center;}#sk-container-id-1 div.sk-container {/* jupyter's `normalize.less` sets `[hidden] { display: none; }` but bootstrap.min.css set `[hidden] { display: none !important; }` so we also need the `!important` here to be able to override the default hidden behavior on the sphinx rendered scikit-learn.org. See: https://github.com/scikit-learn/scikit-learn/issues/21755 */display: inline-block !important;position: relative;}#sk-container-id-1 div.sk-text-repr-fallback {display: none;}</style><div id=\"sk-container-id-1\" class=\"sk-top-container\"><div class=\"sk-text-repr-fallback\"><pre>RandomForestRegressor(random_state=42)</pre><b>In a Jupyter environment, please rerun this cell to show the HTML representation or trust the notebook. <br />On GitHub, the HTML representation is unable to render, please try loading this page with nbviewer.org.</b></div><div class=\"sk-container\" hidden><div class=\"sk-item\"><div class=\"sk-estimator sk-toggleable\"><input class=\"sk-toggleable__control sk-hidden--visually\" id=\"sk-estimator-id-1\" type=\"checkbox\" checked><label for=\"sk-estimator-id-1\" class=\"sk-toggleable__label sk-toggleable__label-arrow\">RandomForestRegressor</label><div class=\"sk-toggleable__content\"><pre>RandomForestRegressor(random_state=42)</pre></div></div></div></div></div>"
            ],
            "text/plain": [
              "RandomForestRegressor(random_state=42)"
            ]
          },
          "execution_count": 8,
          "metadata": {},
          "output_type": "execute_result"
        }
      ],
      "source": [
        "# Initialize the Random Forest Regressor model\n",
        "rf_model = RandomForestRegressor(n_estimators=100, random_state=42)\n",
        "\n",
        "# Train the model\n",
        "rf_model.fit(x_train, y_train)"
      ]
    },
    {
      "cell_type": "code",
      "execution_count": 9,
      "metadata": {
        "colab": {
          "base_uri": "https://localhost:8080/"
        },
        "id": "d8wYav_uZXI7",
        "outputId": "8d616080-2521-4967-d9a6-e232a5fb50e3"
      },
      "outputs": [
        {
          "name": "stdout",
          "output_type": "stream",
          "text": [
            "Model Accuracy: 0.6360912088089655\n",
            "Model Accuracy (R-squared): 0.6360912088089655\n",
            "Mean Absolute Error (MAE): 1.5007151785714288\n",
            "Mean Squared Error (MSE): 5.043775845907739\n",
            "Root Mean Squared Error (RMSE): 2.2458352223410647\n"
          ]
        }
      ],
      "source": [
        "\n",
        "# Make predictions on the test set\n",
        "y_predictions = rf_model.predict(x_test)\n",
        "\n",
        "# Evaluate the model\n",
        "accuracy = rf_model.score(x_test, y_test)\n",
        "r_squared = r2_score(y_test, y_predictions)\n",
        "mae = mean_absolute_error(y_test, y_predictions)\n",
        "mse = mean_squared_error(y_test, y_predictions)\n",
        "rmse = np.sqrt(mse)\n",
        "\n",
        "# Display evaluation metrics\n",
        "print(f\"Model Accuracy: {accuracy}\")\n",
        "print(f\"Model Accuracy (R-squared): {r_squared}\")\n",
        "print(f\"Mean Absolute Error (MAE): {mae}\")\n",
        "print(f\"Mean Squared Error (MSE): {mse}\")\n",
        "print(f\"Root Mean Squared Error (RMSE): {rmse}\")"
      ]
    },
    {
      "cell_type": "code",
      "execution_count": 10,
      "metadata": {
        "colab": {
          "base_uri": "https://localhost:8080/"
        },
        "id": "TIfPYd34jh05",
        "outputId": "52f73a17-cab4-4436-d7c6-e7c6f57bfbc7"
      },
      "outputs": [
        {
          "name": "stdout",
          "output_type": "stream",
          "text": [
            "\n",
            "Actual vs. Predicted Values:\n",
            "Predicted: 8.69 | Actual: 10 | Features: [10  9  3  0  2]\n",
            "Predicted: 6.62 | Actual: 9 | Features: [8 7 2 0 6]\n",
            "Predicted: 15.30 | Actual: 15 | Features: [13 15  3  0  0]\n",
            "Predicted: 13.04 | Actual: 14 | Features: [13 13  3  0  0]\n",
            "Predicted: 5.80 | Actual: 10 | Features: [ 7 10  3  1  0]\n",
            "Predicted: 1.73 | Actual: 0 | Features: [6 7 2 3 0]\n",
            "Predicted: 2.46 | Actual: 0 | Features: [9 8 2 1 0]\n",
            "Predicted: 14.15 | Actual: 14 | Features: [12 14  3  0  7]\n",
            "Predicted: 12.97 | Actual: 11 | Features: [13 13  2  0  2]\n",
            "Predicted: 13.57 | Actual: 13 | Features: [13 13  2  0 23]\n",
            "Predicted: 6.49 | Actual: 10 | Features: [10 10  2  0  0]\n",
            "Predicted: 11.64 | Actual: 11 | Features: [12 11  1  0 16]\n",
            "Predicted: 15.84 | Actual: 18 | Features: [15 16  3  0  2]\n",
            "Predicted: 15.23 | Actual: 15 | Features: [13 15  1  0  0]\n",
            "Predicted: 6.68 | Actual: 10 | Features: [11 10  2  0  0]\n",
            "Predicted: 3.70 | Actual: 9 | Features: [10 10  3  0  0]\n",
            "Predicted: 14.10 | Actual: 14 | Features: [14 14  1  0  2]\n",
            "Predicted: 14.25 | Actual: 13 | Features: [13 14  1  0  0]\n",
            "Predicted: 12.55 | Actual: 11 | Features: [14 12  2  0 10]\n",
            "Predicted: 14.04 | Actual: 14 | Features: [13 14  3  0  6]\n",
            "Predicted: 11.05 | Actual: 11 | Features: [13 11  3  0  8]\n",
            "Predicted: 14.08 | Actual: 15 | Features: [16 14  4  0  6]\n",
            "Predicted: 8.86 | Actual: 9 | Features: [10  8  1  0 10]\n",
            "Predicted: 11.04 | Actual: 10 | Features: [11 11  2  0  2]\n",
            "Predicted: 9.94 | Actual: 11 | Features: [11 11  4  0  0]\n",
            "Predicted: 6.17 | Actual: 5 | Features: [8 6 2 2 2]\n",
            "Predicted: 6.21 | Actual: 6 | Features: [ 7  6  2  0 10]\n",
            "Predicted: 11.00 | Actual: 11 | Features: [12 10  2  0  8]\n",
            "Predicted: 2.77 | Actual: 10 | Features: [10 10  4  0  0]\n",
            "Predicted: 8.20 | Actual: 7 | Features: [ 9  8  2  1 16]\n",
            "Predicted: 6.08 | Actual: 6 | Features: [ 7  6  1  0 18]\n",
            "Predicted: 11.66 | Actual: 12 | Features: [10 12  2  1  4]\n",
            "Predicted: 11.47 | Actual: 13 | Features: [12 12  2  1 12]\n",
            "Predicted: 13.24 | Actual: 15 | Features: [15 13  2  0  9]\n",
            "Predicted: 11.70 | Actual: 11 | Features: [11 12  2  0 54]\n",
            "Predicted: 9.93 | Actual: 9 | Features: [8 9 1 0 5]\n",
            "Predicted: 14.10 | Actual: 13 | Features: [14 14  1  0  2]\n",
            "Predicted: 14.89 | Actual: 15 | Features: [12 14  3  0  1]\n",
            "Predicted: 9.63 | Actual: 10 | Features: [ 8 10  1  0  4]\n",
            "Predicted: 2.05 | Actual: 8 | Features: [8 7 2 0 0]\n"
          ]
        }
      ],
      "source": [
        "# Display actual vs. predicted values\n",
        "print(\"\\nActual vs. Predicted Values:\")\n",
        "for i in range(len(y_predictions)):\n",
        "    print(f\"Predicted: {y_predictions[i]:.2f} | Actual: {y_test[i]} | Features: {x_test[i]}\")"
      ]
    }
  ],
  "metadata": {
    "colab": {
      "provenance": []
    },
    "kernelspec": {
      "display_name": "Python 3",
      "name": "python3"
    },
    "language_info": {
      "codemirror_mode": {
        "name": "ipython",
        "version": 3
      },
      "file_extension": ".py",
      "mimetype": "text/x-python",
      "name": "python",
      "nbconvert_exporter": "python",
      "pygments_lexer": "ipython3",
      "version": "3.11.1"
    }
  },
  "nbformat": 4,
  "nbformat_minor": 0
}
